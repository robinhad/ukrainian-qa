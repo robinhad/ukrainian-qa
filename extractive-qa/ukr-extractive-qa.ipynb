{
 "cells": [
  {
   "cell_type": "code",
   "execution_count": 1,
   "metadata": {},
   "outputs": [],
   "source": [
    "import os\n",
    "if not os.path.exists(\"ua_squad_dataset.json\"):\n",
    "    !wget https://github.com/fido-ai/ua-datasets/releases/download/v0.0.1/ua_squad_dataset.json"
   ]
  },
  {
   "cell_type": "code",
   "execution_count": 2,
   "metadata": {},
   "outputs": [
    {
     "name": "stdout",
     "output_type": "stream",
     "text": [
      "mkdir: cannot create directory ‘ukr_squad’: File exists\n"
     ]
    }
   ],
   "source": [
    "!mkdir ukr_squad"
   ]
  },
  {
   "cell_type": "code",
   "execution_count": 3,
   "metadata": {},
   "outputs": [],
   "source": [
    "import json\n",
    "\n",
    "with open(\"ua_squad_dataset.json\") as file:\n",
    "    squad = json.load(file)\n",
    "\n",
    "with open(\"ukr_squad/output.json\", mode=\"w\") as file:\n",
    "    for item in squad:\n",
    "        file.write(json.dumps(item, ensure_ascii=False))\n",
    "        file.write(\"\\n\")\n"
   ]
  },
  {
   "cell_type": "code",
   "execution_count": 4,
   "metadata": {},
   "outputs": [
    {
     "name": "stderr",
     "output_type": "stream",
     "text": [
      "Using custom data configuration ukr_squad-feb2caf182c7b742\n"
     ]
    },
    {
     "name": "stdout",
     "output_type": "stream",
     "text": [
      "Downloading and preparing dataset json/ukr_squad to /home/robinhad/.cache/huggingface/datasets/json/ukr_squad-feb2caf182c7b742/0.0.0/ac0ca5f5289a6cf108e706efcf040422dbbfa8e658dee6a819f20d76bb84d26b...\n"
     ]
    },
    {
     "data": {
      "application/vnd.jupyter.widget-view+json": {
       "model_id": "800898ca413a4505bea6b975acec1dfa",
       "version_major": 2,
       "version_minor": 0
      },
      "text/plain": [
       "Downloading data files:   0%|          | 0/1 [00:00<?, ?it/s]"
      ]
     },
     "metadata": {},
     "output_type": "display_data"
    },
    {
     "data": {
      "application/vnd.jupyter.widget-view+json": {
       "model_id": "4650067788384186b3d42f8f602f26ed",
       "version_major": 2,
       "version_minor": 0
      },
      "text/plain": [
       "Extracting data files:   0%|          | 0/1 [00:00<?, ?it/s]"
      ]
     },
     "metadata": {},
     "output_type": "display_data"
    },
    {
     "name": "stdout",
     "output_type": "stream",
     "text": [
      "Dataset json downloaded and prepared to /home/robinhad/.cache/huggingface/datasets/json/ukr_squad-feb2caf182c7b742/0.0.0/ac0ca5f5289a6cf108e706efcf040422dbbfa8e658dee6a819f20d76bb84d26b. Subsequent calls will reuse this data.\n"
     ]
    },
    {
     "data": {
      "application/vnd.jupyter.widget-view+json": {
       "model_id": "51267f8c3a28450a903b376947a5ccef",
       "version_major": 2,
       "version_minor": 0
      },
      "text/plain": [
       "  0%|          | 0/1 [00:00<?, ?it/s]"
      ]
     },
     "metadata": {},
     "output_type": "display_data"
    },
    {
     "data": {
      "text/plain": [
       "DatasetDict({\n",
       "    train: Dataset({\n",
       "        features: ['Question', 'Context', 'Answer'],\n",
       "        num_rows: 13859\n",
       "    })\n",
       "})"
      ]
     },
     "execution_count": 4,
     "metadata": {},
     "output_type": "execute_result"
    }
   ],
   "source": [
    "from datasets import load_dataset, Dataset\n",
    "\n",
    "ukr_squad = load_dataset(\"ukr_squad\")\n",
    "ukr_squad = ukr_squad.shuffle(seed=42)\n",
    "ukr_squad"
   ]
  },
  {
   "cell_type": "code",
   "execution_count": 5,
   "metadata": {},
   "outputs": [
    {
     "data": {
      "application/vnd.jupyter.widget-view+json": {
       "model_id": "28494aee28dc45f4a95a22e1cf7d4cba",
       "version_major": 2,
       "version_minor": 0
      },
      "text/plain": [
       "  0%|          | 0/14 [00:00<?, ?ba/s]"
      ]
     },
     "metadata": {},
     "output_type": "display_data"
    }
   ],
   "source": [
    "ukr_squad = ukr_squad.filter(lambda x: len(x[\"Answer\"]) > 0)"
   ]
  },
  {
   "cell_type": "code",
   "execution_count": 6,
   "metadata": {},
   "outputs": [
    {
     "data": {
      "text/plain": [
       "DatasetDict({\n",
       "    train: Dataset({\n",
       "        features: ['Question', 'Context', 'Answer'],\n",
       "        num_rows: 10386\n",
       "    })\n",
       "    validation: Dataset({\n",
       "        features: ['Question', 'Context', 'Answer'],\n",
       "        num_rows: 546\n",
       "    })\n",
       "})"
      ]
     },
     "execution_count": 6,
     "metadata": {},
     "output_type": "execute_result"
    }
   ],
   "source": [
    "split_point = int(0.05*ukr_squad.num_rows[\"train\"]) # split at 10%\n",
    "ukr_squad[\"validation\"] = Dataset.from_dict(ukr_squad[\"train\"][0:split_point]) \n",
    "ukr_squad[\"train\"] =  Dataset.from_dict(ukr_squad[\"train\"][split_point::])\n",
    "ukr_squad"
   ]
  },
  {
   "cell_type": "code",
   "execution_count": 7,
   "metadata": {},
   "outputs": [
    {
     "data": {
      "text/plain": [
       "{'Question': 'Який рік був використаний для оцінок у звіті за 2015 рік?',\n",
       " 'Context': 'Звіт про людський розвиток за 2015 рік підготований Програмою розвитку Організації Об\\'єднаних Націй був опублікований 14 грудня 2015 року, він використовує значення ІРЛ на основі оцінок 2014 року. Нижче наведено перелік країн \"дуже високого людського розвитку\":',\n",
       " 'Answer': '2014'}"
      ]
     },
     "execution_count": 7,
     "metadata": {},
     "output_type": "execute_result"
    }
   ],
   "source": [
    "ukr_squad[\"train\"][1]"
   ]
  },
  {
   "cell_type": "code",
   "execution_count": 8,
   "metadata": {},
   "outputs": [],
   "source": [
    "from transformers import AutoTokenizer, AlbertTokenizerFast\n",
    "\n",
    "model_name = \"ukr-models/xlm-roberta-base-uk\"\n",
    "\n",
    "tokenizer = AutoTokenizer.from_pretrained(model_name)"
   ]
  },
  {
   "cell_type": "code",
   "execution_count": 9,
   "metadata": {},
   "outputs": [],
   "source": [
    "def preprocess_function(examples):\n",
    "    #print(examples)\n",
    "    questions = [q.strip() for q in examples[\"Question\"]]\n",
    "    inputs = tokenizer(\n",
    "        questions,\n",
    "        examples[\"Context\"],\n",
    "        max_length=384,\n",
    "        truncation=\"only_second\",\n",
    "        return_offsets_mapping=True,\n",
    "        padding=\"max_length\",\n",
    "    )\n",
    "\n",
    "    offset_mapping = inputs.pop(\"offset_mapping\")\n",
    "    answers = examples[\"Answer\"]\n",
    "    contexts = examples[\"Context\"]\n",
    "    start_positions = []\n",
    "    end_positions = []\n",
    "\n",
    "    for i, offset in enumerate(offset_mapping):\n",
    "        answer = answers[i]\n",
    "        \n",
    "        if answer is None:\n",
    "            print(questions[i], answer, contexts[i])\n",
    "        start_char = contexts[i].find(answer)\n",
    "        end_char = start_char + len(answer)\n",
    "        sequence_ids = inputs.sequence_ids(i)\n",
    "\n",
    "        # Find the start and end of the context\n",
    "        idx = 0\n",
    "        while sequence_ids[idx] != 1:\n",
    "            idx += 1\n",
    "        context_start = idx\n",
    "        while sequence_ids[idx] == 1:\n",
    "            idx += 1\n",
    "        context_end = idx - 1\n",
    "\n",
    "        # If the answer is not fully inside the context, label it (0, 0)\n",
    "        if offset[context_start][0] > end_char or offset[context_end][1] < start_char:\n",
    "            start_positions.append(0)\n",
    "            end_positions.append(0)\n",
    "        else:\n",
    "            # Otherwise it's the start and end token positions\n",
    "            idx = context_start\n",
    "            while idx <= context_end and offset[idx][0] <= start_char:\n",
    "                idx += 1\n",
    "            start_positions.append(idx - 1)\n",
    "\n",
    "            idx = context_end\n",
    "            while idx >= context_start and offset[idx][1] >= end_char:\n",
    "                idx -= 1\n",
    "            end_positions.append(idx + 1)\n",
    "\n",
    "    inputs[\"start_positions\"] = start_positions\n",
    "    inputs[\"end_positions\"] = end_positions\n",
    "    return inputs"
   ]
  },
  {
   "cell_type": "code",
   "execution_count": 10,
   "metadata": {},
   "outputs": [
    {
     "data": {
      "application/vnd.jupyter.widget-view+json": {
       "model_id": "1c44a4d3555f42b39efe6dcddcf2678b",
       "version_major": 2,
       "version_minor": 0
      },
      "text/plain": [
       "  0%|          | 0/11 [00:00<?, ?ba/s]"
      ]
     },
     "metadata": {},
     "output_type": "display_data"
    },
    {
     "data": {
      "application/vnd.jupyter.widget-view+json": {
       "model_id": "5c5882c73c9148b5b570c3ccf3b60a9a",
       "version_major": 2,
       "version_minor": 0
      },
      "text/plain": [
       "  0%|          | 0/1 [00:00<?, ?ba/s]"
      ]
     },
     "metadata": {},
     "output_type": "display_data"
    }
   ],
   "source": [
    "tokenized_ukr_squad = ukr_squad.map(preprocess_function, batched=True, remove_columns=ukr_squad[\"train\"].column_names)"
   ]
  },
  {
   "cell_type": "code",
   "execution_count": 11,
   "metadata": {},
   "outputs": [],
   "source": [
    "from transformers import DefaultDataCollator\n",
    "\n",
    "data_collator = DefaultDataCollator()"
   ]
  },
  {
   "cell_type": "code",
   "execution_count": 12,
   "metadata": {},
   "outputs": [
    {
     "name": "stderr",
     "output_type": "stream",
     "text": [
      "Some weights of the model checkpoint at ukr-models/xlm-roberta-base-uk were not used when initializing XLMRobertaForQuestionAnswering: ['lm_head.layer_norm.weight', 'lm_head.bias', 'lm_head.layer_norm.bias', 'lm_head.dense.weight', 'lm_head.dense.bias']\n",
      "- This IS expected if you are initializing XLMRobertaForQuestionAnswering from the checkpoint of a model trained on another task or with another architecture (e.g. initializing a BertForSequenceClassification model from a BertForPreTraining model).\n",
      "- This IS NOT expected if you are initializing XLMRobertaForQuestionAnswering from the checkpoint of a model that you expect to be exactly identical (initializing a BertForSequenceClassification model from a BertForSequenceClassification model).\n",
      "Some weights of XLMRobertaForQuestionAnswering were not initialized from the model checkpoint at ukr-models/xlm-roberta-base-uk and are newly initialized: ['qa_outputs.bias', 'qa_outputs.weight']\n",
      "You should probably TRAIN this model on a down-stream task to be able to use it for predictions and inference.\n"
     ]
    }
   ],
   "source": [
    "from transformers import AutoModelForQuestionAnswering, GPT2LMHeadModel, TrainingArguments, Trainer\n",
    "\n",
    "model = AutoModelForQuestionAnswering.from_pretrained(model_name)"
   ]
  },
  {
   "cell_type": "code",
   "execution_count": 13,
   "metadata": {},
   "outputs": [
    {
     "name": "stderr",
     "output_type": "stream",
     "text": [
      "/home/robinhad/Projects/ukrainian-qa/.venv/lib/python3.9/site-packages/transformers/optimization.py:306: FutureWarning: This implementation of AdamW is deprecated and will be removed in a future version. Use the PyTorch implementation torch.optim.AdamW instead, or set `no_deprecation_warning=True` to disable this warning\n",
      "  warnings.warn(\n",
      "***** Running training *****\n",
      "  Num examples = 10386\n",
      "  Num Epochs = 6\n",
      "  Instantaneous batch size per device = 16\n",
      "  Total train batch size (w. parallel, distributed & accumulation) = 16\n",
      "  Gradient Accumulation steps = 1\n",
      "  Total optimization steps = 3900\n"
     ]
    },
    {
     "data": {
      "text/html": [
       "\n",
       "    <div>\n",
       "      \n",
       "      <progress value='3900' max='3900' style='width:300px; height:20px; vertical-align: middle;'></progress>\n",
       "      [3900/3900 18:22, Epoch 6/6]\n",
       "    </div>\n",
       "    <table border=\"1\" class=\"dataframe\">\n",
       "  <thead>\n",
       " <tr style=\"text-align: left;\">\n",
       "      <th>Epoch</th>\n",
       "      <th>Training Loss</th>\n",
       "      <th>Validation Loss</th>\n",
       "    </tr>\n",
       "  </thead>\n",
       "  <tbody>\n",
       "    <tr>\n",
       "      <td>1</td>\n",
       "      <td>2.452600</td>\n",
       "      <td>1.363105</td>\n",
       "    </tr>\n",
       "    <tr>\n",
       "      <td>2</td>\n",
       "      <td>1.331700</td>\n",
       "      <td>1.222852</td>\n",
       "    </tr>\n",
       "    <tr>\n",
       "      <td>3</td>\n",
       "      <td>1.069300</td>\n",
       "      <td>1.218412</td>\n",
       "    </tr>\n",
       "    <tr>\n",
       "      <td>4</td>\n",
       "      <td>0.685100</td>\n",
       "      <td>1.317087</td>\n",
       "    </tr>\n",
       "    <tr>\n",
       "      <td>5</td>\n",
       "      <td>0.559400</td>\n",
       "      <td>1.389290</td>\n",
       "    </tr>\n",
       "    <tr>\n",
       "      <td>6</td>\n",
       "      <td>0.495400</td>\n",
       "      <td>1.477818</td>\n",
       "    </tr>\n",
       "  </tbody>\n",
       "</table><p>"
      ],
      "text/plain": [
       "<IPython.core.display.HTML object>"
      ]
     },
     "metadata": {},
     "output_type": "display_data"
    },
    {
     "name": "stderr",
     "output_type": "stream",
     "text": [
      "***** Running Evaluation *****\n",
      "  Num examples = 546\n",
      "  Batch size = 16\n",
      "Saving model checkpoint to ./results/checkpoint-650\n",
      "Configuration saved in ./results/checkpoint-650/config.json\n",
      "Model weights saved in ./results/checkpoint-650/pytorch_model.bin\n",
      "tokenizer config file saved in ./results/checkpoint-650/tokenizer_config.json\n",
      "Special tokens file saved in ./results/checkpoint-650/special_tokens_map.json\n",
      "Deleting older checkpoint [results/checkpoint-500] due to args.save_total_limit\n",
      "***** Running Evaluation *****\n",
      "  Num examples = 546\n",
      "  Batch size = 16\n",
      "Saving model checkpoint to ./results/checkpoint-1300\n",
      "Configuration saved in ./results/checkpoint-1300/config.json\n",
      "Model weights saved in ./results/checkpoint-1300/pytorch_model.bin\n",
      "tokenizer config file saved in ./results/checkpoint-1300/tokenizer_config.json\n",
      "Special tokens file saved in ./results/checkpoint-1300/special_tokens_map.json\n",
      "Deleting older checkpoint [results/checkpoint-1000] due to args.save_total_limit\n",
      "***** Running Evaluation *****\n",
      "  Num examples = 546\n",
      "  Batch size = 16\n",
      "Saving model checkpoint to ./results/checkpoint-1950\n",
      "Configuration saved in ./results/checkpoint-1950/config.json\n",
      "Model weights saved in ./results/checkpoint-1950/pytorch_model.bin\n",
      "tokenizer config file saved in ./results/checkpoint-1950/tokenizer_config.json\n",
      "Special tokens file saved in ./results/checkpoint-1950/special_tokens_map.json\n",
      "Deleting older checkpoint [results/checkpoint-1500] due to args.save_total_limit\n",
      "***** Running Evaluation *****\n",
      "  Num examples = 546\n",
      "  Batch size = 16\n",
      "Saving model checkpoint to ./results/checkpoint-2600\n",
      "Configuration saved in ./results/checkpoint-2600/config.json\n",
      "Model weights saved in ./results/checkpoint-2600/pytorch_model.bin\n",
      "tokenizer config file saved in ./results/checkpoint-2600/tokenizer_config.json\n",
      "Special tokens file saved in ./results/checkpoint-2600/special_tokens_map.json\n",
      "Deleting older checkpoint [results/checkpoint-650] due to args.save_total_limit\n",
      "***** Running Evaluation *****\n",
      "  Num examples = 546\n",
      "  Batch size = 16\n",
      "Saving model checkpoint to ./results/checkpoint-3250\n",
      "Configuration saved in ./results/checkpoint-3250/config.json\n",
      "Model weights saved in ./results/checkpoint-3250/pytorch_model.bin\n",
      "tokenizer config file saved in ./results/checkpoint-3250/tokenizer_config.json\n",
      "Special tokens file saved in ./results/checkpoint-3250/special_tokens_map.json\n",
      "Deleting older checkpoint [results/checkpoint-1300] due to args.save_total_limit\n",
      "***** Running Evaluation *****\n",
      "  Num examples = 546\n",
      "  Batch size = 16\n",
      "Saving model checkpoint to ./results/checkpoint-3900\n",
      "Configuration saved in ./results/checkpoint-3900/config.json\n",
      "Model weights saved in ./results/checkpoint-3900/pytorch_model.bin\n",
      "tokenizer config file saved in ./results/checkpoint-3900/tokenizer_config.json\n",
      "Special tokens file saved in ./results/checkpoint-3900/special_tokens_map.json\n",
      "Deleting older checkpoint [results/checkpoint-1950] due to args.save_total_limit\n",
      "\n",
      "\n",
      "Training completed. Do not forget to share your model on huggingface.co/models =)\n",
      "\n",
      "\n"
     ]
    },
    {
     "data": {
      "text/plain": [
       "TrainOutput(global_step=3900, training_loss=1.0019937759790665, metrics={'train_runtime': 1103.4027, 'train_samples_per_second': 56.476, 'train_steps_per_second': 3.535, 'total_flos': 1.2212226519570432e+16, 'train_loss': 1.0019937759790665, 'epoch': 6.0})"
      ]
     },
     "execution_count": 13,
     "metadata": {},
     "output_type": "execute_result"
    }
   ],
   "source": [
    "training_args = TrainingArguments(\n",
    "    output_dir=\"./results\",\n",
    "    evaluation_strategy=\"epoch\",\n",
    "    learning_rate=2e-5,\n",
    "    per_device_train_batch_size=16,\n",
    "    per_device_eval_batch_size=16,\n",
    "    num_train_epochs=6,\n",
    "    weight_decay=0.01,\n",
    "    save_total_limit=3,\n",
    "    save_strategy=\"epoch\",\n",
    "    #fp16=True,\n",
    "    #gradient_checkpointing=True,\n",
    "    #gradient_accumulation_steps=4,\n",
    "    report_to=\"tensorboard\"\n",
    ")\n",
    "\n",
    "trainer = Trainer(\n",
    "    model=model,\n",
    "    args=training_args,\n",
    "    train_dataset=tokenized_ukr_squad[\"train\"],\n",
    "    eval_dataset=tokenized_ukr_squad[\"validation\"],\n",
    "    tokenizer=tokenizer,\n",
    "    data_collator=data_collator,\n",
    ")\n",
    "\n",
    "trainer.train()"
   ]
  },
  {
   "cell_type": "code",
   "execution_count": 14,
   "metadata": {},
   "outputs": [
    {
     "name": "stderr",
     "output_type": "stream",
     "text": [
      "Dropping the following result as it does not have all the necessary fields:\n",
      "{'task': {'name': 'Question Answering', 'type': 'question-answering'}}\n"
     ]
    }
   ],
   "source": [
    "trainer.create_model_card()"
   ]
  },
  {
   "cell_type": "code",
   "execution_count": 22,
   "metadata": {},
   "outputs": [
    {
     "data": {
      "text/plain": [
       "{'score': 0.28905344009399414,\n",
       " 'start': 151,\n",
       " 'end': 198,\n",
       " 'answer': ' антидрони, тепловізори та ударний безпілотник.'}"
      ]
     },
     "execution_count": 22,
     "metadata": {},
     "output_type": "execute_result"
    }
   ],
   "source": [
    "from transformers import pipeline\n",
    "\n",
    "qa_model = pipeline(\"question-answering\", model=model.to(\"cpu\"), tokenizer=tokenizer)\n",
    "question = \"Що відправлять для ЗСУ?\"\n",
    "context = \"Про це повідомив міністр оборони Арвідас Анушаускас. Уряд Литви не має наміру зупинятися у військово-технічній допомозі Україні. Збройні сили отримають антидрони, тепловізори та ударний безпілотник. «Незабаром Литва передасть Україні не лише обіцяні бронетехніку, вантажівки та позашляховики, але також нову партію антидронів та тепловізорів. І, звичайно, Байрактар, який придбають на зібрані литовцями гроші», - написав глава Міноборони.\"\n",
    "qa_model(question = question, context = context)"
   ]
  }
 ],
 "metadata": {
  "interpreter": {
   "hash": "6ab83178b492156ee6e84e82103c8115bd0e47de0f4a5fe9c49e3730fb7e13fc"
  },
  "kernelspec": {
   "display_name": "Python 3.9.12 (conda)",
   "language": "python",
   "name": "python3"
  },
  "language_info": {
   "codemirror_mode": {
    "name": "ipython",
    "version": 3
   },
   "file_extension": ".py",
   "mimetype": "text/x-python",
   "name": "python",
   "nbconvert_exporter": "python",
   "pygments_lexer": "ipython3",
   "version": "3.9.12"
  },
  "orig_nbformat": 4
 },
 "nbformat": 4,
 "nbformat_minor": 2
}
